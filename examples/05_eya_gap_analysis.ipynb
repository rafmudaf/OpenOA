{
 "cells": [
  {
   "cell_type": "markdown",
   "metadata": {},
   "source": [
    "This notebook will explore the use of the energy yield assessment (EYA) gap analysis method in OpenOA. This method attributes differences in an EYA-estimated and an operational assessment (OA) estimate of annual energy production (AEP; or net energy, P50). Differences in availability loss estimates, electrical loss estimates, and turbine ideal energy estimates are analyzed. The latter metric incorporates many aspects of an EYA, including the wind resource estimate, wake loss estimate, turbine performane, and blade degradation. "
   ]
  },
  {
   "cell_type": "code",
   "execution_count": 1,
   "metadata": {},
   "outputs": [],
   "source": [
    "from project_ENGIE import Project_Engie\n",
    "from operational_analysis.methods import plant_analysis\n",
    "from operational_analysis.methods import turbine_long_term_gross_energy\n",
    "from operational_analysis.methods import electrical_losses\n",
    "from operational_analysis.methods import eya_gap_analysis"
   ]
  },
  {
   "cell_type": "code",
   "execution_count": 2,
   "metadata": {},
   "outputs": [
    {
     "name": "stderr",
     "output_type": "stream",
     "text": [
      "INFO:project_ENGIE:Loading SCADA data\n",
      "INFO:operational_analysis.types.timeseries_table:Loading name:la-haute-borne-data-2014-2015\n",
      "INFO:project_ENGIE:SCADA data loaded\n",
      "INFO:project_ENGIE:Timestamp QC and conversion to UTC\n",
      "INFO:project_ENGIE:Correcting for out of range of temperature variables\n",
      "INFO:project_ENGIE:Flagging unresponsive sensors\n",
      "INFO:project_ENGIE:Converting field names to IEC 61400-25 standard\n",
      "INFO:operational_analysis.types.timeseries_table:Loading name:plant_data\n",
      "INFO:operational_analysis.types.timeseries_table:Loading name:plant_data\n",
      "INFO:operational_analysis.types.timeseries_table:Loading name:merra2_la_haute_borne\n",
      "INFO:operational_analysis.types.timeseries_table:Loading name:era5_wind_la_haute_borne\n"
     ]
    }
   ],
   "source": [
    "# Load plant object\n",
    "project = Project_Engie('./data/la_haute_borne/')\n",
    "project.prepare()"
   ]
  },
  {
   "cell_type": "code",
   "execution_count": 3,
   "metadata": {},
   "outputs": [
    {
     "name": "stderr",
     "output_type": "stream",
     "text": [
      "INFO:operational_analysis.methods.plant_analysis:Initializing MonteCarloAEP Analysis Object\n",
      "INFO:operational_analysis.methods.plant_analysis:Running with parameters: {'uncertainty_meter': 0.005, 'uncertainty_losses': 0.05, 'uncertainty_loss_max': array([10., 20.]), 'uncertainty_windiness': array([10., 20.]), 'uncertainty_outlier': array([2. , 3.1]), 'uncertainty_nan_energy': 0.01, 'num_sim': 20000, 'reanal_subset': ['era5', 'merra2']}\n",
      "100%|██████████| 20000/20000 [01:09<00:00, 288.92it/s]\n",
      "INFO:operational_analysis.methods.plant_analysis:Run completed\n"
     ]
    }
   ],
   "source": [
    "pa = plant_analysis.MonteCarloAEP(project, reanal_products = ['era5', 'merra2'])\n",
    "pa.run(num_sim=20000, reanal_subset=['era5', 'merra2'])"
   ]
  },
  {
   "cell_type": "code",
   "execution_count": 4,
   "metadata": {},
   "outputs": [
    {
     "name": "stderr",
     "output_type": "stream",
     "text": [
      "INFO:operational_analysis.methods.turbine_long_term_gross_energy:Initializing TurbineLongTermGrossEnergy Object\n",
      "INFO:operational_analysis.methods.turbine_long_term_gross_energy:Processing SCADA data into dictionaries by turbine (this can take a while)\n",
      "INFO:operational_analysis.methods.turbine_long_term_gross_energy:Filtering turbine data\n",
      "INFO:operational_analysis.methods.turbine_long_term_gross_energy:Processing reanalysis data to daily averages\n",
      "INFO:operational_analysis.methods.turbine_long_term_gross_energy:Processing scada data to daily sums\n",
      "4it [00:00, 24.34it/s]\n",
      "INFO:operational_analysis.methods.turbine_long_term_gross_energy:Setting up daily data for model fitting\n",
      "INFO:operational_analysis.methods.turbine_long_term_gross_energy:Fitting model data\n",
      "INFO:operational_analysis.methods.turbine_long_term_gross_energy:Applying fitting results to calculate long-term gross energy\n",
      "INFO:operational_analysis.methods.turbine_long_term_gross_energy:Run completed\n"
     ]
    }
   ],
   "source": [
    "ta = turbine_long_term_gross_energy.TurbineLongTermGrossEnergy(project)\n",
    "ta.run(reanal_subset = ['era5', 'merra2'], \n",
    "       max_power_filter = 0.85, \n",
    "       wind_bin_thresh = 2, \n",
    "       correction_threshold = 0.90, \n",
    "       enable_plotting = False,\n",
    "       plot_dir = None)"
   ]
  },
  {
   "cell_type": "code",
   "execution_count": 5,
   "metadata": {},
   "outputs": [
    {
     "name": "stderr",
     "output_type": "stream",
     "text": [
      "INFO:operational_analysis.methods.electrical_losses:Initializing Electrical Losses Object\n",
      "INFO:operational_analysis.methods.electrical_losses:Processing SCADA data\n",
      "INFO:operational_analysis.methods.electrical_losses:Processing meter data\n",
      "INFO:operational_analysis.methods.electrical_losses:Calculating electrical losses\n"
     ]
    }
   ],
   "source": [
    "el = electrical_losses.ElectricalLosses(project)\n",
    "el.run()"
   ]
  },
  {
   "cell_type": "markdown",
   "metadata": {},
   "source": [
    "Setup some arrays with EYA and OA data, in required order"
   ]
  },
  {
   "cell_type": "code",
   "execution_count": 15,
   "metadata": {},
   "outputs": [
    {
     "name": "stdout",
     "output_type": "stream",
     "text": [
      "12.463094200741452 0.013025709654648998 0.021795016821008373 13.688928362162228\n"
     ]
    }
   ],
   "source": [
    "aep = pa.results.aep_GWh.mean()\n",
    "avail = pa.results.avail_pct.mean()\n",
    "elec = el._electrical_losses\n",
    "tie = ta._plant_gross/1e6\n",
    "\n",
    "print(aep, avail, elec, tie)"
   ]
  },
  {
   "cell_type": "code",
   "execution_count": 28,
   "metadata": {},
   "outputs": [],
   "source": [
    "oa_dict = [aep, avail, elec, tie] \n",
    "# AEP (GWh/yr), availability loss (fraction), electrical loss (fraction), turbine ideal energy (GWh/yr)\n",
    "\n",
    "#eya_dict = [12.34, 15., 0.04, 0.014, 0.037, 0.011, 0.087] \n",
    "eya_dict = [16.46, 20., 0.04, 0.014, 0.037, 0.011, 0.087] \n",
    "# AEP (GWh/yr), Gross energy (GWh/yr), availability loss (fraction), electrical loss (fraction), turbine performance loss (fraction)\n",
    "# blade degradation loss (fraction), wake loss (fraction)"
   ]
  },
  {
   "cell_type": "code",
   "execution_count": 29,
   "metadata": {},
   "outputs": [
    {
     "data": {
      "text/plain": [
       "16.4615793547392"
      ]
     },
     "execution_count": 29,
     "metadata": {},
     "output_type": "execute_result"
    }
   ],
   "source": [
    "20 * (1- 0.04) * (1 - 0.014) * (1 - 0.037) * (1- 0.011) * (1 - 0.087)"
   ]
  },
  {
   "cell_type": "markdown",
   "metadata": {},
   "source": [
    "Create gap analysis object"
   ]
  },
  {
   "cell_type": "code",
   "execution_count": 30,
   "metadata": {},
   "outputs": [
    {
     "name": "stderr",
     "output_type": "stream",
     "text": [
      "INFO:operational_analysis.methods.eya_gap_analysis:Initializing EYA Gap Analysis Object\n"
     ]
    }
   ],
   "source": [
    "gap_anal = eya_gap_analysis.EYAGapAnalysis(plant = 'La Haute Borne', eya_estimates = eya_dict, oa_results = oa_dict)"
   ]
  },
  {
   "cell_type": "markdown",
   "metadata": {},
   "source": [
    "Create waterfall plot"
   ]
  },
  {
   "cell_type": "code",
   "execution_count": 31,
   "metadata": {},
   "outputs": [
    {
     "name": "stderr",
     "output_type": "stream",
     "text": [
      "INFO:operational_analysis.methods.eya_gap_analysis:Gap analysis complete\n"
     ]
    },
    {
     "data": {
      "image/png": "[encoded data removed]",
      "text/plain": [
       "<Figure size 864x432 with 1 Axes>"
      ]
     },
     "metadata": {
      "needs_background": "light"
     },
     "output_type": "display_data"
    }
   ],
   "source": [
    "gap_anal.run()"
   ]
  },
  {
   "cell_type": "markdown",
   "metadata": {},
   "source": [
    "In this example, they EYA estimate of AEP was about 5% higher than the OA result. This difference is explained by a large difference in turbine ideal energy (overestimated in EYA), and smaller differences in availability and electrical losses (underestimated in EYA). A total of 10 GWh/yr, or about 1%, is unexplained or uncertain using this approach."
   ]
  },
  {
   "cell_type": "code",
   "execution_count": null,
   "metadata": {},
   "outputs": [],
   "source": []
  }
 ],
 "metadata": {
  "kernelspec": {
   "display_name": "default",
   "language": "python",
   "name": "default"
  },
  "language_info": {
   "codemirror_mode": {
    "name": "ipython",
    "version": 3
   },
   "file_extension": ".py",
   "mimetype": "text/x-python",
   "name": "python",
   "nbconvert_exporter": "python",
   "pygments_lexer": "ipython3",
   "version": "3.7.6"
  }
 },
 "nbformat": 4,
 "nbformat_minor": 2
}
